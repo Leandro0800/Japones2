{
  "nbformat": 4,
  "nbformat_minor": 0,
  "metadata": {
    "colab": {
      "provenance": [],
      "authorship_tag": "ABX9TyOix0MksgMj2LiRWnE3+jmM",
      "include_colab_link": true
    },
    "kernelspec": {
      "name": "python3",
      "display_name": "Python 3"
    },
    "language_info": {
      "name": "python"
    }
  },
  "cells": [
    {
      "cell_type": "markdown",
      "metadata": {
        "id": "view-in-github",
        "colab_type": "text"
      },
      "source": [
        "<a href=\"https://colab.research.google.com/github/Leandro0800/Japones2/blob/main/Untitled1.ipynb\" target=\"_parent\"><img src=\"https://colab.research.google.com/assets/colab-badge.svg\" alt=\"Open In Colab\"/></a>"
      ]
    },
    {
      "cell_type": "code",
      "execution_count": 1,
      "metadata": {
        "colab": {
          "base_uri": "https://localhost:8080/"
        },
        "id": "qvCGq8R1SmjB",
        "outputId": "24f7dc4e-c5bb-42a3-8bef-d4d0aa00885b"
      },
      "outputs": [
        {
          "output_type": "stream",
          "name": "stdout",
          "text": [
            "Digite a idade de Dona Mônica: 45\n",
            "Digite a idade do filho 1: 67\n",
            "Digite a idade do filho 2: 78\n",
            "Idade do terceiro filho: -100\n",
            "Idade do filho mais velho: 78\n"
          ]
        }
      ],
      "source": [
        "# Entrada dos dados\n",
        "idade_monica = int(input(\"Digite a idade de Dona Mônica: \"))\n",
        "idade_filho1 = int(input(\"Digite a idade do filho 1: \"))\n",
        "idade_filho2 = int(input(\"Digite a idade do filho 2: \"))\n",
        "\n",
        "# Calculando a idade do terceiro filho\n",
        "idade_filho3 = idade_monica - (idade_filho1 + idade_filho2)\n",
        "\n",
        "# Descobrindo quem é o filho mais velho\n",
        "mais_velho = max(idade_filho1, idade_filho2, idade_filho3)\n",
        "\n",
        "# Saída dos resultados\n",
        "print(\"Idade do terceiro filho:\", idade_filho3)\n",
        "print(\"Idade do filho mais velho:\", mais_velho)"
      ]
    }
  ]
}